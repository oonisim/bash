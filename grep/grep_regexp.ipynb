{
 "cells": [
  {
   "cell_type": "markdown",
   "id": "4661789e",
   "metadata": {},
   "source": [
    "# How to use regexp in grep"
   ]
  },
  {
   "cell_type": "code",
   "execution_count": 4,
   "id": "12528eab",
   "metadata": {},
   "outputs": [
    {
     "name": "stdout",
     "output_type": "stream",
     "text": [
      "/home/oonisim/home/repository/git/oonisim/bash/grep\n",
      "current directory is /tmp/tmp.sn5M645L2C\n"
     ]
    }
   ],
   "source": [
    "DIR=$( cd \"$( dirname \"${BASH_SOURCE[0]}\" )\" && pwd )\n",
    "echo $DIR\n",
    "\n",
    "TMP_DIR=$(mktemp -d)\n",
    "cd ${TMP_DIR}\n",
    "echo \"current directory is $(pwd)\"\n",
    "\n",
    "touch 00_hoge.txt 01_hoge.txt 02_hoge.txt"
   ]
  },
  {
   "cell_type": "code",
   "execution_count": 5,
   "id": "c6733bab",
   "metadata": {},
   "outputs": [
    {
     "name": "stdout",
     "output_type": "stream",
     "text": [
      "00_hoge.txt  01_hoge.txt  02_hoge.txt\n"
     ]
    }
   ],
   "source": [
    "ls"
   ]
  },
  {
   "cell_type": "code",
   "execution_count": 6,
   "id": "f62bc36e",
   "metadata": {},
   "outputs": [
    {
     "name": "stdout",
     "output_type": "stream",
     "text": [
      "00_hoge.txt 01_hoge.txt 02_hoge.txt\n"
     ]
    }
   ],
   "source": [
    "files=($(ls | grep  '^[0-9][0-9]*.*\\.txt' | sort -g))\n",
    "echo \"${files[@]}\""
   ]
  },
  {
   "cell_type": "code",
   "execution_count": null,
   "id": "10c3ddd5",
   "metadata": {},
   "outputs": [],
   "source": []
  }
 ],
 "metadata": {
  "kernelspec": {
   "display_name": "Bash",
   "language": "bash",
   "name": "bash"
  },
  "language_info": {
   "codemirror_mode": "shell",
   "file_extension": ".sh",
   "mimetype": "text/x-sh",
   "name": "bash"
  }
 },
 "nbformat": 4,
 "nbformat_minor": 5
}
