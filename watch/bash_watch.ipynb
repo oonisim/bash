{
 "cells": [
  {
   "cell_type": "markdown",
   "id": "76e266de",
   "metadata": {},
   "source": [
    "# watch\n",
    "\n",
    "* [watch](https://linux.die.net/man/1/watch)\n",
    "\n",
    "> ```-d``` or ```--differences``` flag<br>\n",
    "Highlight the differences between successive updates. "
   ]
  },
  {
   "cell_type": "markdown",
   "id": "440f94e7",
   "metadata": {},
   "source": [
    "## Monitor filtered command\n",
    "\n",
    "Single quote to pass the entire commands to execute."
   ]
  },
  {
   "cell_type": "code",
   "execution_count": 4,
   "id": "021f3ede",
   "metadata": {},
   "outputs": [
    {
     "name": "stdout",
     "output_type": "stream",
     "text": [
      "\u001b[?1l\u001b>-rw-r-- 1 oonisim oonisim 742 May  8 11:13 bash_watch.ipynb\u001b[24;80H\u001b[1;75H6\u001b[24;80Ht May  8 11:14:54 2021\u001b[3;1Htotal 4\u001b[1;75H8\u001b[24;80H\u001b[1;72H5:00\u001b[24;80H\u001b[1;75H2\u001b[24;80H\u001b[1;75H4\u001b[24;80H\u001b[1;75H6\u001b[24;80H\u001b[1;75H8\u001b[24;80H\u001b[1;74H10\u001b[24;80H\u001b[1;75H2\u001b[24;80H\u001b[1;75H4\u001b[24;80H\u001b[1;75H6\u001b[24;80H\u001b[1;75H8\u001b[24;80H\u001b[1;74H20\u001b[24;80H\u001b[1;75H2\u001b[24;80H\u001b[1;75H4\u001b[24;80H\u001b[1;75H6\u001b[24;80H\u001b[1;75H8\u001b[24;80H\u001b[1;74H30\u001b[24;80H\u001b[1;75H2\u001b[24;80H\u001b[1;75H4\u001b[24;80H\u001b[1;75H6\u001b[24;80H\u001b[1;75H8\u001b[24;80H\u001b[1;74H40\u001b[24;80H\u001b[24;1H\u001b[2J\u001b[?47l\u001b8"
     ]
    }
   ],
   "source": [
    "! watch -d 'find . -name wor2vec_embedding.pkl | xargs ls -l'"
   ]
  }
 ],
 "metadata": {
  "kernelspec": {
   "display_name": "Python 3",
   "language": "python",
   "name": "python3"
  },
  "language_info": {
   "codemirror_mode": {
    "name": "ipython",
    "version": 3
   },
   "file_extension": ".py",
   "mimetype": "text/x-python",
   "name": "python",
   "nbconvert_exporter": "python",
   "pygments_lexer": "ipython3",
   "version": "3.9.2"
  }
 },
 "nbformat": 4,
 "nbformat_minor": 5
}
