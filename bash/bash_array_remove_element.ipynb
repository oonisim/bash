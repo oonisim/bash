{
 "cells": [
  {
   "cell_type": "markdown",
   "id": "bb3816a3",
   "metadata": {},
   "source": [
    "# How to remove elements from bash array"
   ]
  },
  {
   "cell_type": "code",
   "execution_count": 8,
   "id": "c6bb6750",
   "metadata": {},
   "outputs": [
    {
     "name": "stdout",
     "output_type": "stream",
     "text": [
      "/home/oonisim/home/repository/git/oonisim/bash/bash\n"
     ]
    }
   ],
   "source": [
    "DIR=$( cd \"$( dirname \"${BASH_SOURCE[0]}\" )\" && pwd )\n",
    "echo $DIR"
   ]
  },
  {
   "cell_type": "code",
   "execution_count": 9,
   "id": "6b90875f",
   "metadata": {},
   "outputs": [
    {
     "name": "stdout",
     "output_type": "stream",
     "text": [
      "/home/oonisim/home/repository/git/oonisim/bash/bash/tmp\n",
      "00_hoge  01_hoge  02_hoge\n"
     ]
    }
   ],
   "source": [
    "TMP_DIR=\"${DIR}/tmp\"\n",
    "mkdir -p ${TMP_DIR} && cd ${TMP_DIR}\n",
    "touch 00_hoge 01_hoge 02_hoge\n",
    "pwd\n",
    "ls"
   ]
  },
  {
   "cell_type": "code",
   "execution_count": 5,
   "id": "56c546d5",
   "metadata": {},
   "outputs": [
    {
     "name": "stdout",
     "output_type": "stream",
     "text": [
      "00_hoge 01_hoge 02_hoge\n"
     ]
    }
   ],
   "source": [
    "files=($(ls | grep  '^[0-9][0-9]*' | sort -g))\n",
    "echo \"${files[@]}\""
   ]
  },
  {
   "cell_type": "markdown",
   "id": "7dd92957",
   "metadata": {},
   "source": [
    "## Remove element "
   ]
  },
  {
   "cell_type": "code",
   "execution_count": 6,
   "id": "b18ee584",
   "metadata": {},
   "outputs": [
    {
     "name": "stdout",
     "output_type": "stream",
     "text": [
      "01_hoge 02_hoge\n"
     ]
    }
   ],
   "source": [
    "unset \"files[0]\"\n",
    "echo \"${files[@]}\""
   ]
  },
  {
   "cell_type": "code",
   "execution_count": 10,
   "id": "43a499ea",
   "metadata": {},
   "outputs": [],
   "source": [
    "# cleanup\n",
    "cd $DIR\n",
    "rm -r $TMP_DIR"
   ]
  }
 ],
 "metadata": {
  "kernelspec": {
   "display_name": "Bash",
   "language": "bash",
   "name": "bash"
  },
  "language_info": {
   "codemirror_mode": "shell",
   "file_extension": ".sh",
   "mimetype": "text/x-sh",
   "name": "bash"
  }
 },
 "nbformat": 4,
 "nbformat_minor": 5
}
