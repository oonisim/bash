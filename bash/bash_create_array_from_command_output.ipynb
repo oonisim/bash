{
 "cells": [
  {
   "cell_type": "markdown",
   "id": "bb3816a3",
   "metadata": {},
   "source": [
    "# How to create an array from command output"
   ]
  },
  {
   "cell_type": "code",
   "execution_count": 1,
   "id": "c6bb6750",
   "metadata": {},
   "outputs": [
    {
     "name": "stdout",
     "output_type": "stream",
     "text": [
      "/home/oonisim/home/repository/git/oonisim/bash/bash\n"
     ]
    }
   ],
   "source": [
    "DIR=$( cd \"$( dirname \"${BASH_SOURCE[0]}\" )\" && pwd )\n",
    "echo $DIR"
   ]
  },
  {
   "cell_type": "code",
   "execution_count": 2,
   "id": "6b90875f",
   "metadata": {},
   "outputs": [
    {
     "name": "stdout",
     "output_type": "stream",
     "text": [
      "/tmp/tmp.hpcYpdtvAD\n"
     ]
    }
   ],
   "source": [
    "TMP_DIR=$(mktemp -d)\n",
    "echo $TMP_DIR"
   ]
  },
  {
   "cell_type": "code",
   "execution_count": 3,
   "id": "edf7b307",
   "metadata": {},
   "outputs": [
    {
     "name": "stdout",
     "output_type": "stream",
     "text": [
      "current directory is /tmp/tmp.hpcYpdtvAD\n",
      "00_hoge  01_hoge  02_hoge\n"
     ]
    }
   ],
   "source": [
    "cd ${TMP_DIR}\n",
    "echo \"current directory is $(pwd)\"\n",
    "\n",
    "touch 00_hoge 01_hoge 02_hoge\n",
    "ls"
   ]
  },
  {
   "cell_type": "code",
   "execution_count": 4,
   "id": "56c546d5",
   "metadata": {},
   "outputs": [
    {
     "name": "stdout",
     "output_type": "stream",
     "text": [
      "00_hoge 01_hoge 02_hoge\n"
     ]
    }
   ],
   "source": [
    "files=($(ls | grep  '^[0-9][0-9]*' | sort -g))\n",
    "echo \"${files[@]}\""
   ]
  },
  {
   "cell_type": "code",
   "execution_count": 6,
   "id": "616708e7",
   "metadata": {},
   "outputs": [],
   "source": [
    "# cleanup\n",
    "cd ${DIR}\n",
    "rm -rf ${TMP_DIR}"
   ]
  },
  {
   "cell_type": "code",
   "execution_count": null,
   "id": "808550b1",
   "metadata": {},
   "outputs": [],
   "source": []
  }
 ],
 "metadata": {
  "kernelspec": {
   "display_name": "Bash",
   "language": "bash",
   "name": "bash"
  },
  "language_info": {
   "codemirror_mode": "shell",
   "file_extension": ".sh",
   "mimetype": "text/x-sh",
   "name": "bash"
  }
 },
 "nbformat": 4,
 "nbformat_minor": 5
}
